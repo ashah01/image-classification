{
    "cells": [
        {
            "cell_type": "code",
            "execution_count": 4,
            "metadata": {},
            "outputs": [],
            "source": "import numpy as np \nimport pandas as pd\nimport plotly.express as px "
        },
        {
            "cell_type": "code",
            "execution_count": 5,
            "metadata": {},
            "outputs": [],
            "source": "# The code was removed by Watson Studio for sharing."
        },
        {
            "cell_type": "code",
            "execution_count": 6,
            "metadata": {},
            "outputs": [],
            "source": "# df_train = pd.read_csv('fashion-mnist_train.csv')\n# df_test = pd.read_csv('fashion-mnist_test.csv')\nX_train = df_train.drop('label', axis=1).to_numpy().reshape((60000, 28, 28))\nX_test = df_test.drop('label', axis=1).to_numpy().reshape((10000, 28, 28))\ncolumns = {0: 'T-shirt/top', 1: 'Trouser', 2: 'Pullover', 3: 'Dress', 4: 'Coat', 5: 'Sandal', 6: 'Shirt', 7: 'Sneaker', 8: 'Bag', 9: 'Ankle boot'}\ny_train = pd.get_dummies(df_train['label']).rename(columns=columns).to_numpy()\ny_test = pd.get_dummies(df_test['label']).rename(columns=columns).to_numpy()"
        },
        {
            "cell_type": "code",
            "execution_count": 8,
            "metadata": {},
            "outputs": [],
            "source": "def adjacent_pixels(pixel_cord: tuple):\n    x = pixel_cord[0]\n    y = pixel_cord[1]\n    cord_matrix = [[max(0, x - 1), max(0, y - 1)], [max(0, x - 1), y], [max(0, x - 1), min(27, y + 1)], \n                    [x, max(0, y - 1)], [x, y], [x, min(27, y + 1)], \n                    [min(27, x + 1), max(0, y - 1)], [min(27, x + 1), y], [min(27, x + 1), min(27, y + 1)]]\n    return cord_matrix"
        },
        {
            "cell_type": "code",
            "execution_count": 14,
            "metadata": {},
            "outputs": [],
            "source": "all_differences = []\ndifference_sums = []\ncoordinates = [[j, i] for j in range(1, 27) for i in range(1, 27)]\n  \nfor image in X_train:\n    for (x, y) in coordinates:\n        arr = adjacent_pixels((x, y))\n        minuend = np.full((3, 3), image[x][y])\n        subtrahend = []\n        for cord in arr:\n            subtrahend.append(image[cord[0]][cord[1]])\n        subtrahend = np.array(subtrahend).reshape((3, 3))\n        difference = np.subtract(minuend, subtrahend).sum()\n        difference_sums.append(difference)\n    all_differences.append(difference_sums)\n    difference_sums = []\n"
        },
        {
            "cell_type": "code",
            "execution_count": 311,
            "metadata": {},
            "outputs": [],
            "source": "skewed_distribution = np.array(list(map(lambda x: abs(x) if abs(x) >= 300 else -1 * (300 - abs(x)), np.array(all_differences).flatten()))).reshape(60000, 26, 26)"
        },
        {
            "cell_type": "code",
            "execution_count": 246,
            "metadata": {},
            "outputs": [],
            "source": "coordinates = [[j, i] for j in range(1, 27) for i in range(1, 27)]\nX = []\nfor image in X_train:\n    for (x, y) in coordinates:\n        X.append(image[x][y])\nX_train = np.array(X).reshape((60000, 26, 26))"
        },
        {
            "cell_type": "code",
            "execution_count": 249,
            "metadata": {},
            "outputs": [],
            "source": "def similarity_score(inputs, edge_map):\n    return (np.multiply(inputs, edge_map).sum())"
        },
        {
            "cell_type": "code",
            "execution_count": 292,
            "metadata": {},
            "outputs": [
                {
                    "data": {
                        "text/plain": "5089429"
                    },
                    "execution_count": 292,
                    "metadata": {},
                    "output_type": "execute_result"
                }
            ],
            "source": "similarity_score(X_train[0], skewed_distribution[0])"
        },
        {
            "cell_type": "code",
            "execution_count": 267,
            "metadata": {},
            "outputs": [],
            "source": "class_indices = {0: [], 1: [], 2: [], 3:[], 4:[], 5:[], 6:[], 7:[], 8:[], 9:[]}\nfor index, array in enumerate(y_train):\n    class_indices[np.where(array == 1)[0].item()].append(index)"
        },
        {
            "cell_type": "code",
            "execution_count": 299,
            "metadata": {
                "scrolled": false
            },
            "outputs": [],
            "source": "t_shirt, trouser, pullover, dress, coat, sandal, shirt, sneaker, bag, boot = list(class_indices.values())"
        },
        {
            "cell_type": "code",
            "execution_count": 301,
            "metadata": {},
            "outputs": [],
            "source": "def edge_map(image_class):\n    edge_map_image_class = np.zeros((26, 26))\n    for image in skewed_distribution[image_class]:\n        edge_map_image_class = np.add(edge_map_image_class, np.multiply(image, 1/6000))\n    return edge_map_image_class\n"
        },
        {
            "cell_type": "code",
            "execution_count": 302,
            "metadata": {
                "scrolled": true
            },
            "outputs": [],
            "source": "class_list = [edge_map(image_class) for image_class in [t_shirt, trouser, pullover, dress, coat, sandal, shirt, sneaker, bag, boot]]"
        },
        {
            "cell_type": "code",
            "execution_count": 335,
            "metadata": {},
            "outputs": [
                {
                    "ename": "NameError",
                    "evalue": "name 'columns' is not defined",
                    "output_type": "error",
                    "traceback": [
                        "\u001b[0;31m---------------------------------------------------------------------------\u001b[0m",
                        "\u001b[0;31mNameError\u001b[0m                                 Traceback (most recent call last)",
                        "\u001b[0;32m<ipython-input-335-b05343bf1ec1>\u001b[0m in \u001b[0;36m<module>\u001b[0;34m\u001b[0m\n\u001b[1;32m      1\u001b[0m \u001b[0msimilarity\u001b[0m \u001b[0;34m=\u001b[0m \u001b[0;34m[\u001b[0m\u001b[0msimilarity_score\u001b[0m\u001b[0;34m(\u001b[0m\u001b[0mskewed_distribution\u001b[0m\u001b[0;34m[\u001b[0m\u001b[0;36m7\u001b[0m\u001b[0;34m]\u001b[0m\u001b[0;34m,\u001b[0m \u001b[0mweights\u001b[0m\u001b[0;34m)\u001b[0m \u001b[0;32mfor\u001b[0m \u001b[0mweights\u001b[0m \u001b[0;32min\u001b[0m \u001b[0mclass_list\u001b[0m\u001b[0;34m]\u001b[0m \u001b[0;31m# Replace `skewed_distribution[0]` with desired test image\u001b[0m\u001b[0;34m\u001b[0m\u001b[0;34m\u001b[0m\u001b[0m\n\u001b[0;32m----> 2\u001b[0;31m \u001b[0mprint\u001b[0m\u001b[0;34m(\u001b[0m\u001b[0mcolumns\u001b[0m\u001b[0;34m[\u001b[0m\u001b[0mnp\u001b[0m\u001b[0;34m.\u001b[0m\u001b[0mwhere\u001b[0m\u001b[0;34m(\u001b[0m\u001b[0msimilarity\u001b[0m \u001b[0;34m==\u001b[0m \u001b[0mmax\u001b[0m\u001b[0;34m(\u001b[0m\u001b[0msimilarity\u001b[0m\u001b[0;34m)\u001b[0m\u001b[0;34m)\u001b[0m\u001b[0;34m[\u001b[0m\u001b[0;36m0\u001b[0m\u001b[0;34m]\u001b[0m\u001b[0;34m.\u001b[0m\u001b[0mitem\u001b[0m\u001b[0;34m(\u001b[0m\u001b[0;34m)\u001b[0m\u001b[0;34m]\u001b[0m\u001b[0;34m)\u001b[0m\u001b[0;34m\u001b[0m\u001b[0;34m\u001b[0m\u001b[0m\n\u001b[0m",
                        "\u001b[0;31mNameError\u001b[0m: name 'columns' is not defined"
                    ]
                }
            ],
            "source": "similarity = [similarity_score(skewed_distribution[7], weights) for weights in class_list] # Replace `skewed_distribution[0]` with desired test image\nprint(columns[np.where(similarity == max(similarity))[0].item()])"
        },
        {
            "cell_type": "code",
            "execution_count": null,
            "metadata": {},
            "outputs": [],
            "source": ""
        }
    ],
    "metadata": {
        "interpreter": {
            "hash": "b6ad051429fd5f185819768f1de704762080d9a3f83fbebf4502b048dbc9e3b9"
        },
        "kernelspec": {
            "display_name": "Python 3.8 + GPU",
            "language": "python",
            "name": "python3"
        },
        "language_info": {
            "codemirror_mode": {
                "name": "ipython",
                "version": 3
            },
            "file_extension": ".py",
            "mimetype": "text/x-python",
            "name": "python",
            "nbconvert_exporter": "python",
            "pygments_lexer": "ipython3",
            "version": "3.8.12"
        }
    },
    "nbformat": 4,
    "nbformat_minor": 2
}