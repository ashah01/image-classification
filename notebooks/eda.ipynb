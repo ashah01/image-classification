{
 "cells": [
  {
   "cell_type": "code",
   "execution_count": null,
   "metadata": {},
   "outputs": [],
   "source": [
    "import numpy as np \n",
    "import pandas as pd\n",
    "import plotly.express as px \n",
    "import sklearn\n",
    "import torch"
   ]
  },
  {
   "cell_type": "code",
   "execution_count": null,
   "metadata": {},
   "outputs": [],
   "source": [
    "df_train = pd.read_csv('../input/fashion-mnist_train.csv')\n",
    "df_test = pd.read_csv('../input/fashion-mnist_test.csv')\n",
    "X_train = df_train.drop('label', axis=1).to_numpy().reshape((60000, 28, 28))\n",
    "X_test = df_test.drop('label', axis=1).to_numpy().reshape((10000, 28, 28))\n",
    "y_train = pd.get_dummies(df_train['label']).rename(columns={0: 'T-shirt/top', 1: 'Trouser', 2: 'Pullover', 3: 'Dress', 4: 'Coat', 5: 'Sandal', 6: 'Shirt', 7: 'Sneaker', 8: 'Bag', 9: 'Ankle boot'}).to_numpy()\n",
    "y_test = pd.get_dummies(df_test['label']).rename(columns={0: 'T-shirt/top', 1: 'Trouser', 2: 'Pullover', 3: 'Dress', 4: 'Coat', 5: 'Sandal', 6: 'Shirt', 7: 'Sneaker', 8: 'Bag', 9: 'Ankle boot'}).to_numpy()"
   ]
  },
  {
   "cell_type": "code",
   "execution_count": null,
   "metadata": {},
   "outputs": [],
   "source": [
    "def adjacent_pixels(pixel_cord: tuple):\n",
    "    x = pixel_cord[0]\n",
    "    y = pixel_cord[1]\n",
    "    cord_matrix = np.array([[(max(0, x - 1), max(0, y - 1)), (max(0, x - 1), y), (max(0, x - 1), min(27, y + 1))], [(x, max(0, y - 1)), pixel_cord, (x, min(27, y + 1))], [(min(27, x + 1), max(0, y - 1)), (min(27, x + 1), y), (min(27, x + 1), min(27, y + 1))]])\n",
    "    return cord_matrix\n",
    "    "
   ]
  },
  {
   "cell_type": "code",
   "execution_count": null,
   "metadata": {},
   "outputs": [],
   "source": [
    "image = X_train[0]\n",
    "difference_sums = []\n",
    "for x in range(1, 27):\n",
    "    for y in range(1, 27):\n",
    "        pixel_selection = (x, y)\n",
    "        arr = adjacent_pixels(pixel_selection)\n",
    "        minuend = np.full((3, 3), image[x][y])\n",
    "        subtrahend = []\n",
    "        for i in arr:\n",
    "            for j in i:\n",
    "                subtrahend.append(image[j[0]][j[1]])\n",
    "        subtrahend = np.array(subtrahend).reshape((3, 3))\n",
    "        difference = np.subtract(minuend, subtrahend).sum()\n",
    "        difference_sums.append(difference)\n",
    "\n",
    "print(difference_sums)"
   ]
  },
  {
   "cell_type": "code",
   "execution_count": null,
   "metadata": {},
   "outputs": [],
   "source": [
    "fig = px.histogram(x=difference_sums)\n",
    "fig.show()"
   ]
  },
  {
   "cell_type": "code",
   "execution_count": null,
   "metadata": {},
   "outputs": [],
   "source": [
    "skewed_distribution = np.array(list(map(lambda x: x if abs(x) >= 300 else 0, difference_sums))).reshape((26, 26))"
   ]
  },
  {
   "cell_type": "code",
   "execution_count": null,
   "metadata": {},
   "outputs": [],
   "source": [
    "px.imshow(skewed_distribution)"
   ]
  }
 ],
 "metadata": {
  "interpreter": {
   "hash": "b6ad051429fd5f185819768f1de704762080d9a3f83fbebf4502b048dbc9e3b9"
  },
  "kernelspec": {
   "display_name": "Python 3.9.7 64-bit ('textile-prediction-r-zHs6KL': pipenv)",
   "language": "python",
   "name": "python3"
  },
  "language_info": {
   "codemirror_mode": {
    "name": "ipython",
    "version": 3
   },
   "file_extension": ".py",
   "mimetype": "text/x-python",
   "name": "python",
   "nbconvert_exporter": "python",
   "pygments_lexer": "ipython3",
   "version": "3.9.7"
  },
  "orig_nbformat": 4
 },
 "nbformat": 4,
 "nbformat_minor": 2
}
