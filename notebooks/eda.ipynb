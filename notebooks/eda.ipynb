{
    "cells": [
        {
            "cell_type": "code",
            "execution_count": 4,
            "metadata": {},
            "outputs": [],
            "source": "import numpy as np \nimport pandas as pd\nimport plotly.express as px "
        },
        {
            "cell_type": "code",
            "execution_count": 5,
            "metadata": {},
            "outputs": [],
            "source": "# The code was removed by Watson Studio for sharing."
        },
        {
            "cell_type": "code",
            "execution_count": 336,
            "metadata": {},
            "outputs": [],
            "source": "# df_train = pd.read_csv('fashion-mnist_train.csv')\n# df_test = pd.read_csv('fashion-mnist_test.csv')\nX_train = df_train.drop('label', axis=1).to_numpy().reshape((60000, 28, 28))\nX_test = df_test.drop('label', axis=1).to_numpy().reshape((10000, 28, 28))\ncolumns = {0: 'T-shirt/top', 1: 'Trouser', 2: 'Pullover', 3: 'Dress', 4: 'Coat', 5: 'Sandal', 6: 'Shirt', 7: 'Sneaker', 8: 'Bag', 9: 'Ankle boot'}\ny_train = pd.get_dummies(df_train['label']).rename(columns=columns).to_numpy()\ny_test = pd.get_dummies(df_test['label']).rename(columns=columns).to_numpy()"
        },
        {
            "cell_type": "code",
            "execution_count": 8,
            "metadata": {},
            "outputs": [],
            "source": "def adjacent_pixels(pixel_cord: tuple):\n    x = pixel_cord[0]\n    y = pixel_cord[1]\n    cord_matrix = [[max(0, x - 1), max(0, y - 1)], [max(0, x - 1), y], [max(0, x - 1), min(27, y + 1)], \n                    [x, max(0, y - 1)], [x, y], [x, min(27, y + 1)], \n                    [min(27, x + 1), max(0, y - 1)], [min(27, x + 1), y], [min(27, x + 1), min(27, y + 1)]]\n    return cord_matrix"
        },
        {
            "cell_type": "code",
            "execution_count": 14,
            "metadata": {},
            "outputs": [],
            "source": "all_differences = []\ndifference_sums = []\ncoordinates = [[j, i] for j in range(1, 27) for i in range(1, 27)]\n  \nfor image in X_train:\n    for (x, y) in coordinates:\n        arr = adjacent_pixels((x, y))\n        minuend = np.full((3, 3), image[x][y])\n        subtrahend = []\n        for cord in arr:\n            subtrahend.append(image[cord[0]][cord[1]])\n        subtrahend = np.array(subtrahend).reshape((3, 3))\n        difference = np.subtract(minuend, subtrahend).sum()\n        difference_sums.append(difference)\n    all_differences.append(difference_sums)\n    difference_sums = []\n"
        },
        {
            "cell_type": "code",
            "execution_count": 311,
            "metadata": {},
            "outputs": [],
            "source": "skewed_distribution = np.array(list(map(lambda x: abs(x) if abs(x) >= 300 else -1 * (300 - abs(x)), np.array(all_differences).flatten()))).reshape(60000, 26, 26)"
        },
        {
            "cell_type": "code",
            "execution_count": 337,
            "metadata": {},
            "outputs": [],
            "source": "coordinates = [[j, i] for j in range(1, 27) for i in range(1, 27)]\nX = []\nfor image in X_train:\n    for (x, y) in coordinates:\n        X.append(image[x][y])\nX_train = np.array(X).reshape((60000, 26, 26))"
        },
        {
            "cell_type": "code",
            "execution_count": 249,
            "metadata": {},
            "outputs": [],
            "source": "def similarity_score(inputs, edge_map):\n    return (np.multiply(inputs, edge_map).sum())"
        },
        {
            "cell_type": "code",
            "execution_count": 267,
            "metadata": {},
            "outputs": [],
            "source": "class_indices = {0: [], 1: [], 2: [], 3:[], 4:[], 5:[], 6:[], 7:[], 8:[], 9:[]}\nfor index, array in enumerate(y_train):\n    class_indices[np.where(array == 1)[0].item()].append(index)\nt_shirt, trouser, pullover, dress, coat, sandal, shirt, sneaker, bag, boot = list(class_indices.values())"
        },
        {
            "cell_type": "code",
            "execution_count": 301,
            "metadata": {},
            "outputs": [],
            "source": "def edge_map(image_class):\n    edge_map_image_class = np.zeros((26, 26))\n    for image in skewed_distribution[image_class]:\n        edge_map_image_class = np.add(edge_map_image_class, np.multiply(image, 1/6000))\n    return edge_map_image_class\n"
        },
        {
            "cell_type": "code",
            "execution_count": 302,
            "metadata": {
                "scrolled": true
            },
            "outputs": [],
            "source": "class_list = [edge_map(image_class) for image_class in [t_shirt, trouser, pullover, dress, coat, sandal, shirt, sneaker, bag, boot]]"
        },
        {
            "cell_type": "code",
            "execution_count": 339,
            "metadata": {},
            "outputs": [
                {
                    "name": "stdout",
                    "output_type": "stream",
                    "text": "Bag\n"
                }
            ],
            "source": "similarity = [similarity_score(skewed_distribution[11], weights) for weights in class_list] # Replace `skewed_distribution[11]` with desired test image\nprint(columns[np.where(similarity == max(similarity))[0].item()])"
        }
    ],
    "metadata": {
        "interpreter": {
            "hash": "b6ad051429fd5f185819768f1de704762080d9a3f83fbebf4502b048dbc9e3b9"
        },
        "kernelspec": {
            "display_name": "Python 3.8 + GPU",
            "language": "python",
            "name": "python3"
        },
        "language_info": {
            "codemirror_mode": {
                "name": "ipython",
                "version": 3
            },
            "file_extension": ".py",
            "mimetype": "text/x-python",
            "name": "python",
            "nbconvert_exporter": "python",
            "pygments_lexer": "ipython3",
            "version": "3.8.12"
        }
    },
    "nbformat": 4,
    "nbformat_minor": 2
}